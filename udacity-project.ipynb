{
 "cells": [
  {
   "cell_type": "code",
   "execution_count": null,
   "metadata": {
    "gather": {
     "logged": 1598275788035
    }
   },
   "outputs": [],
   "source": [
    "from azureml.core import Workspace, Experiment\n",
    "\n",
    "ws = Workspace.from_config()\n",
    "exp = Experiment(workspace=ws, name=\"udacity-project\")\n",
    "# define experiment\n",
    "#exp_automl = Experiment(workspace=ws, name=\"automl\")\n",
    "\n",
    "print('Workspace name: ' + ws.name, \n",
    "      'Azure region: ' + ws.location, \n",
    "      'Subscription id: ' + ws.subscription_id, \n",
    "      'Resource group: ' + ws.resource_group, sep = '\\n')\n",
    "\n",
    "run = exp.start_logging()"
   ]
  },
  {
   "cell_type": "code",
   "execution_count": null,
   "metadata": {
    "gather": {
     "logged": 1598275788675
    },
    "jupyter": {
     "outputs_hidden": false,
     "source_hidden": false
    },
    "nteract": {
     "transient": {
      "deleting": false
     }
    }
   },
   "outputs": [],
   "source": [
    "from azureml.core.compute import ComputeTarget, AmlCompute\n",
    "from azureml.core.compute_target import ComputeTargetException\n",
    "\n",
    "cluster_name = \"MY_PROJECT_CLUSTER\"\n",
    "\n",
    "try:\n",
    "    compute_cluster = ComputeTarget(workspace=ws, name=cluster_name)\n",
    "    print('Found existing compute target')\n",
    "except ComputeTargetException:\n",
    "    print('Creating a new compute target...')\n",
    "    cluster_config = AmlCompute.provisioning_configuration(vm_size='Standard_D2_V2', max_nodes=4)\n",
    "    compute_cluster = ComputeTarget.create(ws, cluster_name, cluster_config)\n",
    "\n",
    "compute_cluster.wait_for_completion(show_output=True)\n",
    "\n",
    "# get a detailed status for the current cluster.\n",
    "print(compute_cluster.get_status().serialize())"
   ]
  },
  {
   "cell_type": "code",
   "execution_count": null,
   "metadata": {
    "gather": {
     "logged": 1598275789986
    },
    "jupyter": {
     "outputs_hidden": false,
     "source_hidden": false
    },
    "nteract": {
     "transient": {
      "deleting": false
     }
    }
   },
   "outputs": [],
   "source": [
    "from azureml.widgets import RunDetails\n",
    "from azureml.train.sklearn import SKLearn\n",
    "from azureml.train.hyperdrive.run import PrimaryMetricGoal\n",
    "from azureml.train.hyperdrive.policy import BanditPolicy\n",
    "from azureml.train.hyperdrive.sampling import RandomParameterSampling\n",
    "from azureml.train.hyperdrive.runconfig import HyperDriveConfig\n",
    "from azureml.train.hyperdrive.parameter_expressions import choice, uniform\n",
    "from azureml.core import Environment, ScriptRunConfig\n",
    "import os, logging\n",
    "logging.basicConfig(level=logging.INFO)\n",
    "\n",
    "# Create a directory that will contain all the necessary code.\n",
    "#project_folder = 'Final_Project'\n",
    "#os.makedirs(project_folder, exist_ok=True)\n",
    "\n",
    "# parameter sampler\n",
    "param_sampling = RandomParameterSampling( {\n",
    "        '--C': choice(0.1, 1, 10, 100, 1000), \n",
    "        #'--max_iter': uniform(1, 500)\n",
    "        '--max_iter': choice(1, 50, 100, 200, 500)\n",
    "    })\n",
    "\n",
    "# End poorly performing runs with an early termination policy (improves computational efficiency).\n",
    "early_termination_policy = BanditPolicy(slack_factor=0.1)\n",
    "\n",
    "if \"training\" not in os.listdir():\n",
    "    os.mkdir(\"./training\")\n",
    "\n",
    "# Setup environment for your training run\n",
    "sklearn_env = Environment.from_conda_specification(name='sklearn-env', file_path='conda_dependencies.yml')\n",
    "\n",
    "# Create a ScriptRunConfig Object to specify the configuration details of training job\n",
    "src = ScriptRunConfig(source_directory='./',\n",
    "                      script='train.py',\n",
    "                      #arguments=['--C', '--max_iter'],\n",
    "                      compute_target=compute_cluster,\n",
    "                      environment=sklearn_env)\n",
    "\n",
    "# Create a HyperDriveConfig.\n",
    "# The name of the primary metric needs to exactly match the name of the metric logged by the training script.\n",
    "hyperdrive_config = HyperDriveConfig(run_config=src,\n",
    "                             hyperparameter_sampling=param_sampling,\n",
    "                             policy=early_termination_policy,\n",
    "                             primary_metric_name=\"Accuracy\",\n",
    "                             primary_metric_goal=PrimaryMetricGoal.MAXIMIZE,\n",
    "                             max_total_runs=4,\n",
    "                             max_concurrent_runs=4)"
   ]
  },
  {
   "cell_type": "code",
   "execution_count": null,
   "metadata": {},
   "outputs": [],
   "source": [
    "# Submit the experiment (start the HyperDrive run).\n",
    "hyperdrive_run = exp.submit(hyperdrive_config)\n",
    "\n",
    "# Visualize all hyperparameter tuning runs.\n",
    "RunDetails(hyperdrive_run).show()\n",
    "hyperdrive_run.wait_for_completion(show_output=True)\n",
    "assert(hyperdrive_run.get_status() == \"Completed\")"
   ]
  },
  {
   "cell_type": "code",
   "execution_count": null,
   "metadata": {
    "gather": {
     "logged": 1598276310862
    },
    "jupyter": {
     "outputs_hidden": false,
     "source_hidden": false
    },
    "nteract": {
     "transient": {
      "deleting": false
     }
    }
   },
   "outputs": [],
   "source": [
    "import joblib\n",
    "\n",
    "# Best performing configuration and hyperparameter values.\n",
    "best_run = hyperdrive_run.get_best_run_by_primary_metric()\n",
    "best_run_metrics = best_run.get_metrics()\n",
    "parameter_values = best_run.get_details()['runDefinition']['arguments']\n",
    "\n",
    "print('Best Run Id: ', best_run.id)\n",
    "print('\\n Accuracy:', best_run_metrics['accuracy'])\n",
    "print('\\n learning rate:',parameter_values[3])\n",
    "print('\\n keep probability:',parameter_values[5])\n",
    "print('\\n batch size:',parameter_values[7])\n",
    "\n",
    "# List the model files uploaded during the run.\n",
    "# print('\\n Model files:', best_run.get_file_names())\n",
    "\n",
    "# Save the model from that run.\n",
    "model_hyperdrive = best_run.register_model(model_name='model_hyperdrive', model_path='outputs/model.joblib')"
   ]
  },
  {
   "cell_type": "code",
   "execution_count": null,
   "metadata": {},
   "outputs": [],
   "source": [
    "from azureml.data.dataset_factory import TabularDatasetFactory\n",
    "\n",
    "# Create TabularDataset\n",
    "data_location = \"https://automlsamplenotebookdata.blob.core.windows.net/automl-sample-notebook-data/bankmarketing_train.csv\"\n",
    "ds = TabularDatasetFactory.from_delimited_files(path=data_location, validate=True, include_path=False, infer_column_types=True, set_column_types=None, separator=',', header=True, partition_format=None, support_multi_line=False, empty_as_string=False)"
   ]
  },
  {
   "cell_type": "code",
   "execution_count": null,
   "metadata": {
    "gather": {
     "logged": 1598275726969
    },
    "jupyter": {
     "outputs_hidden": false,
     "source_hidden": false
    },
    "nteract": {
     "transient": {
      "deleting": false
     }
    }
   },
   "outputs": [],
   "source": [
    "from train import clean_data\n",
    "from sklearn.model_selection import train_test_split\n",
    "import pandas as pd\n",
    "\n",
    "# clean data.\n",
    "x, y = clean_data(ds)\n",
    "\n",
    "# y is a pandas Series. Convert to dataframe.\n",
    "y_df = pd.DataFrame(y,columns=['y'])\n",
    "\n",
    "# Combine both dataframes : x and y_df.\n",
    "combined_data = pd.concat([x,y_df],axis=1)\n",
    "\n",
    "# Split data into train and test sets.\n",
    "train_data, test_data = train_test_split(combined_data, test_size = 0.2, random_state = 42)\n",
    "\n",
    "# Convert training data to csv.\n",
    "train_data.to_csv('training/automl_training_data.csv')\n",
    "\n",
    "# get datastore\n",
    "datastore_automl = ws.get_default_datastore()\n",
    "\n",
    "# upload data to datastore\n",
    "datastore_automl.upload(src_dir='training/',target_path='data/')\n",
    "\n",
    "# convert data to tabular format\n",
    "automl_train_dataset = TabularDatasetFactory.from_delimited_files(path=[(datastore_automl,('data/automl_training_data.csv'))])"
   ]
  },
  {
   "cell_type": "code",
   "execution_count": null,
   "metadata": {
    "gather": {
     "logged": 1598275665403
    },
    "jupyter": {
     "outputs_hidden": false,
     "source_hidden": false
    },
    "nteract": {
     "transient": {
      "deleting": false
     }
    }
   },
   "outputs": [],
   "source": [
    "from azureml.train.automl import AutoMLConfig\n",
    "\n",
    "automl_settings = {\n",
    "       \"n_cross_validations\": 3,\n",
    "       \"primary_metric\": 'accuracy',\n",
    "       \"experiment_timeout_minutes\":30,\n",
    "       \"verbosity\": logging.INFO,\n",
    "   }\n",
    "\n",
    "# Set parameters for AutoMLConfig\n",
    "automl_config = AutoMLConfig(task = 'classification',\n",
    "                             compute_target = compute_cluster,\n",
    "                             training_data = automl_train_dataset,\n",
    "                             label_column_name='y',\n",
    "                             **automl_settings\n",
    "                             )\n",
    "\n",
    "#  Submit automl run (show Validation errors and current status).\n",
    "automl_run = exp.submit(automl_config, show_output=True)"
   ]
  },
  {
   "cell_type": "code",
   "execution_count": 2,
   "metadata": {
    "jupyter": {
     "outputs_hidden": false,
     "source_hidden": false
    },
    "nteract": {
     "transient": {
      "deleting": false
     }
    }
   },
   "outputs": [],
   "source": [
    "from azureml.widgets import RunDetails\n",
    "\n",
    "RunDetails(automl_run).show()\n",
    "automl_run.wait_for_completion(show_output=True)"
   ]
  },
  {
   "cell_type": "code",
   "execution_count": 2,
   "metadata": {},
   "outputs": [],
   "source": [
    "# Retrieve the best Run object\n",
    "#automl_best_run = automl_run.get_best_child()\n",
    "\n",
    "# Retrieve the best run and the fitted model.\n",
    "automl_best_run, fitted_model = automl_run.get_output()"
   ]
  },
  {
   "cell_type": "code",
   "execution_count": null,
   "metadata": {},
   "outputs": [],
   "source": [
    "# Save best automl model.\n",
    "automl_best_run.register_model(model_name = \"automl_model.pkl\", model_path = './output/')\n",
    "print(fitted_model._final_estimator)"
   ]
  },
  {
   "cell_type": "code",
   "execution_count": null,
   "metadata": {},
   "outputs": [],
   "source": [
    "# delete compute cluster\n",
    "compute_cluster.delete()"
   ]
  }
 ],
 "metadata": {
  "kernel_info": {
   "name": "python3-azureml"
  },
  "kernelspec": {
   "display_name": "Python 3",
   "language": "python",
   "name": "python3"
  },
  "language_info": {
   "codemirror_mode": {
    "name": "ipython",
    "version": 3
   },
   "file_extension": ".py",
   "mimetype": "text/x-python",
   "name": "python",
   "nbconvert_exporter": "python",
   "pygments_lexer": "ipython3",
   "version": "3.10.3"
  },
  "nteract": {
   "version": "nteract-front-end@1.0.0"
  }
 },
 "nbformat": 4,
 "nbformat_minor": 2
}
